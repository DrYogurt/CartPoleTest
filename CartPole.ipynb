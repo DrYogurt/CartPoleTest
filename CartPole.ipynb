{
 "cells": [
  {
   "cell_type": "code",
   "execution_count": 8,
   "id": "60f1c6ae",
   "metadata": {},
   "outputs": [
    {
     "name": "stderr",
     "output_type": "stream",
     "text": [
      "/home/dryogurt/Documents/Habitats/QuinnResearch/MuJoCoGarbage/MujocoVenv/lib/python3.10/site-packages/gym/core.py:329: DeprecationWarning: \u001b[33mWARN: Initializing wrapper in old step API which returns one bool instead of two. It is recommended to set `new_step_api=True` to use new step API. This will be the default behaviour in future.\u001b[0m\n",
      "  deprecation(\n",
      "/home/dryogurt/Documents/Habitats/QuinnResearch/MuJoCoGarbage/MujocoVenv/lib/python3.10/site-packages/gym/wrappers/step_api_compatibility.py:39: DeprecationWarning: \u001b[33mWARN: Initializing environment in old step API which returns one bool instead of two. It is recommended to set `new_step_api=True` to use new step API. This will be the default behaviour in future.\u001b[0m\n",
      "  deprecation(\n"
     ]
    }
   ],
   "source": [
    "import gym\n",
    "\n",
    "from sns_toolbox.design.neurons import NonSpikingNeuron\n",
    "from sns_toolbox.design.networks import Network\n",
    "from sns_toolbox.design.connections import NonSpikingSynapse\n",
    "from sns_toolbox.simulate.backends import SNS_Numpy\n",
    "env = gym.make('CartPole-v1')"
   ]
  },
  {
   "cell_type": "markdown",
   "id": "f5719988",
   "metadata": {},
   "source": [
    "# Hyperparamters"
   ]
  },
  {
   "cell_type": "code",
   "execution_count": 9,
   "id": "d2c8df9a",
   "metadata": {},
   "outputs": [],
   "source": [
    "num_neurons = 16\n",
    "dt = 0.01"
   ]
  },
  {
   "cell_type": "markdown",
   "id": "8272e69a",
   "metadata": {},
   "source": [
    "   # Create our Fully Connected Model\n",
    "    "
   ]
  },
  {
   "cell_type": "code",
   "execution_count": 11,
   "id": "3d3ed64d",
   "metadata": {},
   "outputs": [
    {
     "name": "stdout",
     "output_type": "stream",
     "text": [
      "{'substeps': 1, 'network': <sns_toolbox.design.networks.Network object at 0x7eff2a767340>, 'dt': 0.01, 'debug': False, 'spiking': False, 'delay': False, 'num_populations': 16, 'num_neurons': 16, 'num_connections': 256, 'num_inputs': 4, 'num_outputs': 1, 'R': 20.0, 'u': array([0., 0., 0., 0., 0., 0., 0., 0., 0., 0., 0., 0., 0., 0., 0., 0.]), 'u_last': array([0., 0., 0., 0., 0., 0., 0., 0., 0., 0., 0., 0., 0., 0., 0., 0.]), 'c_m': array([5., 5., 5., 5., 5., 5., 5., 5., 5., 5., 5., 5., 5., 5., 5., 5.]), 'g_m': array([1., 1., 1., 1., 1., 1., 1., 1., 1., 1., 1., 1., 1., 1., 1., 1.]), 'i_b': array([0., 0., 0., 0., 0., 0., 0., 0., 0., 0., 0., 0., 0., 0., 0., 0.]), 'g_max_non': array([[1., 1., 1., 1., 1., 1., 1., 1., 1., 1., 1., 1., 1., 1., 1., 1.],\n",
      "       [1., 1., 1., 1., 1., 1., 1., 1., 1., 1., 1., 1., 1., 1., 1., 1.],\n",
      "       [1., 1., 1., 1., 1., 1., 1., 1., 1., 1., 1., 1., 1., 1., 1., 1.],\n",
      "       [1., 1., 1., 1., 1., 1., 1., 1., 1., 1., 1., 1., 1., 1., 1., 1.],\n",
      "       [1., 1., 1., 1., 1., 1., 1., 1., 1., 1., 1., 1., 1., 1., 1., 1.],\n",
      "       [1., 1., 1., 1., 1., 1., 1., 1., 1., 1., 1., 1., 1., 1., 1., 1.],\n",
      "       [1., 1., 1., 1., 1., 1., 1., 1., 1., 1., 1., 1., 1., 1., 1., 1.],\n",
      "       [1., 1., 1., 1., 1., 1., 1., 1., 1., 1., 1., 1., 1., 1., 1., 1.],\n",
      "       [1., 1., 1., 1., 1., 1., 1., 1., 1., 1., 1., 1., 1., 1., 1., 1.],\n",
      "       [1., 1., 1., 1., 1., 1., 1., 1., 1., 1., 1., 1., 1., 1., 1., 1.],\n",
      "       [1., 1., 1., 1., 1., 1., 1., 1., 1., 1., 1., 1., 1., 1., 1., 1.],\n",
      "       [1., 1., 1., 1., 1., 1., 1., 1., 1., 1., 1., 1., 1., 1., 1., 1.],\n",
      "       [1., 1., 1., 1., 1., 1., 1., 1., 1., 1., 1., 1., 1., 1., 1., 1.],\n",
      "       [1., 1., 1., 1., 1., 1., 1., 1., 1., 1., 1., 1., 1., 1., 1., 1.],\n",
      "       [1., 1., 1., 1., 1., 1., 1., 1., 1., 1., 1., 1., 1., 1., 1., 1.],\n",
      "       [1., 1., 1., 1., 1., 1., 1., 1., 1., 1., 1., 1., 1., 1., 1., 1.]]), 'del_e': array([[40., 40., 40., 40., 40., 40., 40., 40., 40., 40., 40., 40., 40.,\n",
      "        40., 40., 40.],\n",
      "       [40., 40., 40., 40., 40., 40., 40., 40., 40., 40., 40., 40., 40.,\n",
      "        40., 40., 40.],\n",
      "       [40., 40., 40., 40., 40., 40., 40., 40., 40., 40., 40., 40., 40.,\n",
      "        40., 40., 40.],\n",
      "       [40., 40., 40., 40., 40., 40., 40., 40., 40., 40., 40., 40., 40.,\n",
      "        40., 40., 40.],\n",
      "       [40., 40., 40., 40., 40., 40., 40., 40., 40., 40., 40., 40., 40.,\n",
      "        40., 40., 40.],\n",
      "       [40., 40., 40., 40., 40., 40., 40., 40., 40., 40., 40., 40., 40.,\n",
      "        40., 40., 40.],\n",
      "       [40., 40., 40., 40., 40., 40., 40., 40., 40., 40., 40., 40., 40.,\n",
      "        40., 40., 40.],\n",
      "       [40., 40., 40., 40., 40., 40., 40., 40., 40., 40., 40., 40., 40.,\n",
      "        40., 40., 40.],\n",
      "       [40., 40., 40., 40., 40., 40., 40., 40., 40., 40., 40., 40., 40.,\n",
      "        40., 40., 40.],\n",
      "       [40., 40., 40., 40., 40., 40., 40., 40., 40., 40., 40., 40., 40.,\n",
      "        40., 40., 40.],\n",
      "       [40., 40., 40., 40., 40., 40., 40., 40., 40., 40., 40., 40., 40.,\n",
      "        40., 40., 40.],\n",
      "       [40., 40., 40., 40., 40., 40., 40., 40., 40., 40., 40., 40., 40.,\n",
      "        40., 40., 40.],\n",
      "       [40., 40., 40., 40., 40., 40., 40., 40., 40., 40., 40., 40., 40.,\n",
      "        40., 40., 40.],\n",
      "       [40., 40., 40., 40., 40., 40., 40., 40., 40., 40., 40., 40., 40.,\n",
      "        40., 40., 40.],\n",
      "       [40., 40., 40., 40., 40., 40., 40., 40., 40., 40., 40., 40., 40.,\n",
      "        40., 40., 40.],\n",
      "       [40., 40., 40., 40., 40., 40., 40., 40., 40., 40., 40., 40., 40.,\n",
      "        40., 40., 40.]]), 'pops_and_nrns': [[0], [1], [2], [3], [4], [5], [6], [7], [8], [9], [10], [11], [12], [13], [14], [15]], 'input_connectivity': array([[1., 0., 0., 0.],\n",
      "       [0., 1., 0., 0.],\n",
      "       [0., 0., 1., 0.],\n",
      "       [0., 0., 0., 1.],\n",
      "       [0., 0., 0., 0.],\n",
      "       [0., 0., 0., 0.],\n",
      "       [0., 0., 0., 0.],\n",
      "       [0., 0., 0., 0.],\n",
      "       [0., 0., 0., 0.],\n",
      "       [0., 0., 0., 0.],\n",
      "       [0., 0., 0., 0.],\n",
      "       [0., 0., 0., 0.],\n",
      "       [0., 0., 0., 0.],\n",
      "       [0., 0., 0., 0.],\n",
      "       [0., 0., 0., 0.],\n",
      "       [0., 0., 0., 0.]]), 'time_factor_membrane': array([0.002, 0.002, 0.002, 0.002, 0.002, 0.002, 0.002, 0.002, 0.002,\n",
      "       0.002, 0.002, 0.002, 0.002, 0.002, 0.002, 0.002]), 'output_voltage_connectivity': array([[0., 0., 0., 0., 0., 0., 0., 0., 0., 0., 0., 0., 0., 0., 0., 1.]]), 'outputs': array([0.])}\n"
     ]
    }
   ],
   "source": [
    "neuron = NonSpikingNeuron(name='Neuron',  # Name displayed in a render of the network\n",
    "                               color='white',  # Fill color for the rendered neuron\n",
    "                               membrane_capacitance=5.0,  # Membrane capacitance in nF\n",
    "                               membrane_conductance=1.0,  # Membrane conductance in uS\n",
    "                               bias=0.0)                # Tonic applied current in nA\n",
    "syn = NonSpikingSynapse()\n",
    "\n",
    "net = Network(name='CartPoleNet')\n",
    "\n",
    "for i in range(num_neurons):\n",
    "    net.add_neuron(neuron, name='Neuron {}'.format(i), color='blue')\n",
    "for i in range(num_neurons):\n",
    "    for j in range(num_neurons):\n",
    "        net.add_connection(syn,'Neuron {}'.format(i),'Neuron {}'.format(j))\n",
    "\n",
    "num_inputs = 4\n",
    "for i in range(num_inputs):\n",
    "    net.add_input(dest='Neuron {}'.format(i),name='Input {}'.format(i))\n",
    "\n",
    "net.add_output(source='Neuron {}'.format(num_neurons - 1), name='Output {}'.format(0),color='grey')\n",
    "model = SNS_Numpy(net, dt=dt)\n",
    "#net.graph\n",
    "print(model.__dict__)"
   ]
  },
  {
   "cell_type": "markdown",
   "id": "2d57533a",
   "metadata": {},
   "source": [
    "# Stepping Forward\n",
    "Hypothetically, this loop should perform a few simple steps:\n",
    "1. Perform one simulation\n",
    "\n",
    "    a. Step forward one time step of the SNS\n",
    "    \n",
    "    b. Take one step forward of our physics model\n",
    "    \n",
    "    c. return cost\n",
    "\n",
    "2. Update parameters of the function using random sampling\n",
    "3. Try again\n",
    "\n",
    "This contains an inner and outer loop"
   ]
  },
  {
   "cell_type": "code",
   "execution_count": null,
   "id": "3b36d0ea",
   "metadata": {},
   "outputs": [],
   "source": [
    "\n",
    "\n",
    "\n",
    "model.forward(obs)\n",
    "obs, reward, terminated, truncated, info = env.step()"
   ]
  }
 ],
 "metadata": {
  "kernelspec": {
   "display_name": "Python (MuJoCo)",
   "language": "python",
   "name": "mujocoenv"
  },
  "language_info": {
   "codemirror_mode": {
    "name": "ipython",
    "version": 3
   },
   "file_extension": ".py",
   "mimetype": "text/x-python",
   "name": "python",
   "nbconvert_exporter": "python",
   "pygments_lexer": "ipython3",
   "version": "3.10.5"
  }
 },
 "nbformat": 4,
 "nbformat_minor": 5
}
